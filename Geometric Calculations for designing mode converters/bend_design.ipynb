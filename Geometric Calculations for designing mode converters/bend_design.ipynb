{
 "cells": [
  {
   "cell_type": "markdown",
   "metadata": {},
   "source": [
    "#this script is for bend design"
   ]
  },
  {
   "cell_type": "code",
   "execution_count": 10,
   "metadata": {
    "collapsed": false
   },
   "outputs": [
    {
     "data": {
      "text/latex": [
       "$$3.73205080756888 x + 65.7995141943503$$"
      ],
      "text/plain": [
       "3.73205080756888*x + 65.7995141943503"
      ]
     },
     "execution_count": 10,
     "metadata": {},
     "output_type": "execute_result"
    }
   ],
   "source": [
    "using SymPy\n",
    "cx, x = symbols(\"c_x, x\")\n",
    "a = 2.032\n",
    "b = a/2\n",
    "r = 3.0 + b/2\n",
    "p = [-15.037727, 9.677953]\n",
    "y1 = r - sqrt(r^2 - (x-cx)^2)\n",
    "y2 = tand(75)*(x - p[1]) + p[2]"
   ]
  },
  {
   "cell_type": "code",
   "execution_count": 11,
   "metadata": {
    "collapsed": false
   },
   "outputs": [
    {
     "data": {
      "text/latex": [
       "\\begin{bmatrix}-20.3227097645665\\end{bmatrix}"
      ],
      "text/plain": [
       "1-element Array{Sym,1}\n",
       "[-20.3227097645665]"
      ]
     },
     "execution_count": 11,
     "metadata": {},
     "output_type": "execute_result"
    }
   ],
   "source": [
    "solve(subs(y1, x, cx + r*sind(75)) ⩵ subs(y2, x, cx + r*sind(75)))"
   ]
  },
  {
   "cell_type": "code",
   "execution_count": 12,
   "metadata": {
    "collapsed": false
   },
   "outputs": [
    {
     "data": {
      "text/latex": [
       "$$1.0 x + 36.965804$$"
      ],
      "text/plain": [
       "1.0*x + 36.965804"
      ]
     },
     "execution_count": 12,
     "metadata": {},
     "output_type": "execute_result"
    }
   ],
   "source": [
    "using SymPy\n",
    "cy, x = symbols(\"c_x, x\", real=true)\n",
    "a = 2.032\n",
    "b = a/2\n",
    "r = 3.0 + b/2\n",
    "p = [-32.203694, 4.762110]\n",
    "y1 = cy - sqrt(r^2 - (x+r)^2)\n",
    "y2 = tand(45)*(x - p[1]) + p[2]"
   ]
  },
  {
   "cell_type": "code",
   "execution_count": 13,
   "metadata": {
    "collapsed": false
   },
   "outputs": [
    {
     "data": {
      "text/latex": [
       "\\begin{bmatrix}38.4188651768048\\end{bmatrix}"
      ],
      "text/plain": [
       "1-element Array{Sym,1}\n",
       "[38.4188651768048]"
      ]
     },
     "execution_count": 13,
     "metadata": {},
     "output_type": "execute_result"
    }
   ],
   "source": [
    "solve(subs(y1, x, r*(-1+cosd(45))) ⩵ subs(y2, x, r*(-1+cosd(45))))"
   ]
  },
  {
   "cell_type": "code",
   "execution_count": null,
   "metadata": {
    "collapsed": true
   },
   "outputs": [],
   "source": []
  }
 ],
 "metadata": {
  "kernelspec": {
   "display_name": "Julia 0.3.10",
   "language": "julia",
   "name": "julia-0.3"
  },
  "language_info": {
   "name": "julia",
   "version": "0.3.10"
  }
 },
 "nbformat": 4,
 "nbformat_minor": 0
}
