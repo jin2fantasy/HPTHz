{
 "cells": [
  {
   "cell_type": "code",
   "execution_count": null,
   "metadata": {
    "collapsed": true
   },
   "outputs": [],
   "source": [
    "using SymPy\n",
    "a, x, b = symbols(\"a, x, b\", real=true)\n",
    "y = a*cos(0.4x - b) + a/2\n",
    "dy = diff(y, x)\n",
    "rotmatrix(θ) = [cosd(θ) -sind(θ); sind(θ) cosd(θ)]\n",
    "rotatedvector = rotmatrix(45)*[0.382683, -0.923880]\n",
    "solve([Eq(subs(dy, x, 0), (-0.382684/0.92388)), Eq(subs(y, x, 0), 2.592137)])\n",
    "\n"
   ]
  }
 ],
 "metadata": {
  "kernelspec": {
   "display_name": "Julia 0.3.9",
   "language": "julia",
   "name": "julia-0.3"
  },
  "language_info": {
   "name": "julia",
   "version": "0.3.9"
  }
 },
 "nbformat": 4,
 "nbformat_minor": 0
}
